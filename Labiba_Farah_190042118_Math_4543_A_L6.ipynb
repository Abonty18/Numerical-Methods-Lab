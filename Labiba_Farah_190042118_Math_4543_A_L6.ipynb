{
  "nbformat": 4,
  "nbformat_minor": 0,
  "metadata": {
    "colab": {
      "provenance": [],
      "include_colab_link": true
    },
    "kernelspec": {
      "name": "python3",
      "display_name": "Python 3"
    },
    "language_info": {
      "name": "python"
    }
  },
  "cells": [
    {
      "cell_type": "markdown",
      "metadata": {
        "id": "view-in-github",
        "colab_type": "text"
      },
      "source": [
        "<a href=\"https://colab.research.google.com/github/Abonty18/Numerical-Methods-Lab/blob/main/Labiba_Farah_190042118_Math_4543_A_L6.ipynb\" target=\"_parent\"><img src=\"https://colab.research.google.com/assets/colab-badge.svg\" alt=\"Open In Colab\"/></a>"
      ]
    },
    {
      "cell_type": "markdown",
      "source": [
        "# **Lab 6 : Ordinary Differential Equations**<br>\n",
        "\n",
        "Ordinary Differential Equation (ODE) is a differential equation consisting of one or more functions of a single independent variable and the derivatives of those functions. Finding derivatives analytically is a complex procedure, involving a lot of rules. Computers and calculators find derivatives using some sort of numerical methods. Here, our target is to estimate a function given its differential equation using methods such as **Euler's method**, **Runge-Kutta 2<sup>nd</sup> order method** or **Runge-Kutta 4<sup>th</sup> order method**. An important thing to note here is that these numerical methods can only solve first order ODE of the form $ \\frac{dy}{dx}=f(x,y), y(0)=y_0 $. Then how do we solve higher order differential equations? Basically, we convert higher order derivatives of one variable into first order derivatives of a different variable, and then apply one of those numerical methods we just talked about.\n",
        "\n",
        "In today's lab, we will be implementing the **Runge-Kutta 2<sup>nd</sup> order method** for solving a second order ODE in python. Refer to the example 3 in the higher order differential equations pdf. There are 3 methods associated with **Runge-Kutta 2<sup>nd</sup> order method** and we will be using the Heun's method so as to be able to check our results with the ones obtained in the example. \n",
        "\n",
        "The following is the problem you need to solve. Given the ordinary differential equation $ \\frac{d^2y}{dt^2}+2\\frac{dy}{dt}+y=e^{-t}, y(0)=1, \\frac{dy}{dt}(0)=2 $, find using Heun's method $y(0.75)$ using a step size of $h=0.25$"
      ],
      "metadata": {
        "id": "Dex_lDl5gUKB"
      }
    },
    {
      "cell_type": "markdown",
      "source": [
        "##Task 1\n",
        "Convert the higher order differential equation into two first order differential equations of two different variables $y$ and $z$. Implement two functions for $f_1$ and $f_2$. Then, complete the following RungeKutta2() method that takes the initial values for y and z as well as the step size and the point $t_n$ at which we are trying to estimate y and finally uses the previous two functions at every iteration to calculate $y_{i+1}$ and $z_{i+1}$. The function should return the result for $y(0.75)$."
      ],
      "metadata": {
        "id": "_XU-vXFFzj4T"
      }
    },
    {
      "cell_type": "code",
      "source": [
        "import math\n",
        "\n",
        "def f1(t,y,z):\n",
        " \n",
        "  return z \n",
        "\n",
        "def f2(t,y,z):\n",
        " \n",
        "  return math.exp( -1*t ) -2*z -y \n",
        "\n",
        "def RungeKutta2(y0, z0, h, t_n):\n",
        "  #Your code here\n",
        "  ti = 0 \n",
        "  yi = y0\n",
        "  zi = z0\n",
        "  while ti < t_n :\n",
        "    kz1 = f2(ti, yi, zi)\n",
        "    ky1 = f1(ti, yi, zi)\n",
        "    ky2 = f1(ti + h , yi + h*ky1, zi +h*kz1)\n",
        "    kz2 = f2(ti+h,yi+h*ky1, zi+h*kz1 )\n",
        "\n",
        "    yit = yi + 0.5*(ky1+ky2)*h\n",
        "    zit = zi + 0.5*(kz1+kz2)*h\n",
        "\n",
        "    ti = ti + h \n",
        "    yi = yit \n",
        "    zi = zit \n",
        "  \n",
        "  return yi \n",
        "\n",
        "\n",
        "RungeKutta2(1, 2, 0.25, 0.75)"
      ],
      "metadata": {
        "id": "xv0ziIB60ET8",
        "colab": {
          "base_uri": "https://localhost:8080/"
        },
        "outputId": "6b2696c6-fa0d-4472-9160-85b317ee3950"
      },
      "execution_count": null,
      "outputs": [
        {
          "output_type": "execute_result",
          "data": {
            "text/plain": [
              "1.6477384570128473"
            ]
          },
          "metadata": {},
          "execution_count": 4
        }
      ]
    },
    {
      "cell_type": "markdown",
      "source": [
        "##Task 2\n",
        "\n",
        "Change your RungeKutta2 function so that instead of only returning $y(0.75)$, it returns a vector containing the values of $y$ at many different positions at smaller intervals. Then, estimate the curve of the original function by plotting the resulting vector. "
      ],
      "metadata": {
        "id": "fvnbTNL6dcjG"
      }
    },
    {
      "cell_type": "code",
      "source": [
        "#Write your code for generating the function curve here\n",
        "import math\n",
        "import matplotlib.pyplot as plt\n",
        "\n",
        "t = []\n",
        "y = []\n",
        "def RungeKutta2(y0, z0, h, t_n):\n",
        " \n",
        "  ti = 0 \n",
        "  yi = y0\n",
        "  zi = z0\n",
        "  no_of_steps = t_n / h\n",
        "  for i in range (math.ceil(no_of_steps)):\n",
        "    ky1 = f1(ti, yi, zi)\n",
        "    kz1 = f2(ti, yi, zi)\n",
        "    ky2 = f1(ti + h , yi + h*ky1, zi +h*kz1)\n",
        "    kz2 = f2(ti+h,yi+h*ky1, zi+h*kz1 )\n",
        "\n",
        "    yip1 = yi + 0.5*(ky1+ky2)*h\n",
        "    zip1 = zi + 0.5*(kz1+kz2)*h\n",
        "\n",
        "    t.append(ti)\n",
        "    y.append(yi)\n",
        "    ti = ti + h \n",
        "    yi = yip1 \n",
        "    zi = zip1 \n",
        "    \n",
        "  return yi \n",
        "\n",
        "RungeKutta2(1, 2, 0.01, 0.75)\n",
        "plt.plot(t,y)\n",
        "\n",
        "\n",
        "\n",
        "  \n"
      ],
      "metadata": {
        "id": "SaRlmtr1dYt9",
        "colab": {
          "base_uri": "https://localhost:8080/",
          "height": 286
        },
        "outputId": "5cde969e-8588-44dd-afa3-71289ab52492"
      },
      "execution_count": null,
      "outputs": [
        {
          "output_type": "execute_result",
          "data": {
            "text/plain": [
              "[<matplotlib.lines.Line2D at 0x7f76e2b021d0>]"
            ]
          },
          "metadata": {},
          "execution_count": 16
        },
        {
          "output_type": "display_data",
          "data": {
            "text/plain": [
              "<Figure size 432x288 with 1 Axes>"
            ],
            "image/png": "[encoded data removed]"
          },
          "metadata": {
            "needs_background": "light"
          }
        }
      ]
    }
  ]
}