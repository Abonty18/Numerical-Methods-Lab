{
  "nbformat": 4,
  "nbformat_minor": 0,
  "metadata": {
    "colab": {
      "name": "Labiba_Farah_190042118 - Math_4544_A_L1_190042118.ipynb",
      "provenance": [],
      "collapsed_sections": [],
      "include_colab_link": true
    },
    "kernelspec": {
      "name": "python3",
      "display_name": "Python 3"
    },
    "language_info": {
      "name": "python"
    }
  },
  "cells": [
    {
      "cell_type": "markdown",
      "metadata": {
        "id": "view-in-github",
        "colab_type": "text"
      },
      "source": [
        "<a href=\"https://colab.research.google.com/github/Abonty18/Numerical-Methods-Lab/blob/main/Labiba_Farah_190042118_Math_4544_A_L1_190042118.ipynb\" target=\"_parent\"><img src=\"https://colab.research.google.com/assets/colab-badge.svg\" alt=\"Open In Colab\"/></a>"
      ]
    },
    {
      "cell_type": "markdown",
      "metadata": {
        "id": "SChhcgB_Tkv9"
      },
      "source": [
        "# **Lab 1 : Bisection Method**<br>\n",
        "\n",
        "The bisection method (also known as the binary search method) is a method of finding roots of a non-linear function. The assumption here is that the function is real continuous, otherwise the bisection method will not work. It is based on the **Intermediate Value Theorem** which states that if f(x) is a real continuous function, and if f(x<sub>l</sub>)f(x<sub>u</sub>)\\< 0 then there must be a root between x<sub>l</sub> and x<sub>u</sub>.\n",
        "\n",
        "In today's lab, we will be implementing the bisection method in python. We will be considering the function f(x) as an array of coefficients, for instance if we want to have f(x) = x<sup>3</sup>-2x<sup>2</sup>+4, then in python we will create an array as follows:\n"
      ]
    },
    {
      "cell_type": "code",
      "metadata": {
        "id": "rZ4tGQSjTvYF"
      },
      "source": [],
      "execution_count": null,
      "outputs": []
    },
    {
      "cell_type": "code",
      "source": [],
      "metadata": {
        "id": "_e_u2_vC0DPo"
      },
      "execution_count": null,
      "outputs": []
    },
    {
      "cell_type": "code",
      "source": [],
      "metadata": {
        "colab": {
          "base_uri": "https://localhost:8080/"
        },
        "id": "eOZjRyv50VNF",
        "outputId": "49f006fb-90f2-4ff5-c664-60212574efc0"
      },
      "execution_count": null,
      "outputs": [
        {
          "output_type": "stream",
          "name": "stdout",
          "text": [
            "[ 1 -2  0  4]\n"
          ]
        }
      ]
    },
    {
      "cell_type": "code",
      "source": [],
      "metadata": {
        "id": "pC08Lbq-0VJb"
      },
      "execution_count": null,
      "outputs": []
    },
    {
      "cell_type": "code",
      "source": [],
      "metadata": {
        "id": "fqGOfwIm0VGr"
      },
      "execution_count": null,
      "outputs": []
    },
    {
      "cell_type": "markdown",
      "metadata": {
        "id": "E4vSfOrrTwlc"
      },
      "source": [
        "Next, you will need to create a user-defined function as follows\n",
        "\n",
        "```\n",
        "bisection_method(f, xl, xu, epsilon)\n",
        "```\n",
        "This function will return the root of the equation represented by the array f and in case it does not reach the root exactly then it will return the close enough value to the root that has an absolute relative approximate error of at most epsilon (%).\n",
        "\n",
        "In python, functions are defined as follows"
      ]
    },
    {
      "cell_type": "code",
      "metadata": {
        "colab": {
          "base_uri": "https://localhost:8080/"
        },
        "id": "aUR8kbzqT0AM",
        "outputId": "891abd32-15fa-406e-c5f8-b6038d8c5dfa"
      },
      "source": [
        "#Execute this cell to test how the function works\n",
        "\n",
        "def func(a,b):\n",
        "  result = a + b\n",
        "  return result\n",
        "\n",
        "print(func(1,2))"
      ],
      "execution_count": null,
      "outputs": [
        {
          "output_type": "stream",
          "name": "stdout",
          "text": [
            "3\n"
          ]
        }
      ]
    },
    {
      "cell_type": "markdown",
      "metadata": {
        "id": "cCGekrFWT3Lc"
      },
      "source": [
        "Note that in python, we do not need to specify the data type for parameters nor any return type for the function as these are implicitly determined. Also, note the colon (:) after the function signature. Indentation matters in python, since the consecutive codes having same indentation will be considered as a single block."
      ]
    },
    {
      "cell_type": "markdown",
      "metadata": {
        "id": "3sOLCbqJT7q0"
      },
      "source": [
        "##Task 1\n",
        "Implement the function for bisection method following the requirements set earlier. Write a script after the function to call it and test whether it is working correctly."
      ]
    },
    {
      "cell_type": "code",
      "metadata": {
        "id": "f6HGUB7nT9k9",
        "colab": {
          "base_uri": "https://localhost:8080/"
        },
        "outputId": "02a4bdb3-9d60-43d8-e3c4-1a0064c14223"
      },
      "source": [
        "#Complete the following function\n",
        "\n",
        "#write your implementation here\n",
        " \n",
        "import numpy as np\n",
        "f = np.array([1,-2,0,4])\n",
        "def func(x,f):\n",
        "    result=0\n",
        "    for i in range (len(f)-1,-1,-1):\n",
        "      result= result+f[len(f)-i-1]*pow(x,i)\n",
        "    return result\n",
        "#print(func(3,f))\n",
        "\n",
        "\n",
        "def bisection_method(f,xl, xu, epsilon):\n",
        "    xm=xl\n",
        "    error=100\n",
        "    i=0\n",
        "    while(True):\n",
        "      if(i!=0):\n",
        "        x_o=xm\n",
        "        xm=(xl+xu)/2\n",
        "\n",
        "      if (func(xl,f)*func(xm,f))<0:\n",
        "          xu=xm\n",
        "      else:\n",
        "          xl=xm\n",
        "\n",
        "      if(i!=0):\n",
        "          error=abs((xm-x_o)/xm)*100\n",
        "          if error<=epsilon:\n",
        "            break\n",
        "      i=i+1\n",
        "\n",
        "      print(\"The value of root is :\" , \"%.5f\" %xm)\n",
        "\n",
        "bisection_method(f,-2,0,5)\n",
        "\n",
        "#Write a driver code here for calling the function and testing it\n",
        "\n",
        "\n",
        "\n",
        "\n",
        "\n",
        "\n",
        "\n"
      ],
      "execution_count": 1,
      "outputs": [
        {
          "output_type": "stream",
          "name": "stdout",
          "text": [
            "The value of root is : -2.00000\n",
            "The value of root is : -1.00000\n",
            "The value of root is : -1.50000\n",
            "The value of root is : -1.25000\n",
            "The value of root is : -1.12500\n",
            "The value of root is : -1.18750\n"
          ]
        }
      ]
    },
    {
      "cell_type": "markdown",
      "metadata": {
        "id": "5Jb9dNIqT_f8"
      },
      "source": [
        "We can plot graphs in python using the matplotlib library. An example of plotting graphs is shown here"
      ]
    },
    {
      "cell_type": "code",
      "metadata": {
        "colab": {
          "base_uri": "https://localhost:8080/",
          "height": 295
        },
        "id": "0XJwGIRjUCy7",
        "outputId": "cd0c2c1c-7779-4a13-e968-895f9002d915"
      },
      "source": [
        "import numpy as np\n",
        "import matplotlib.pyplot as plt\n",
        "\n",
        "iters = np.arange(0, 5) #start=0, stop=5, and since no step is given, so default step=1\n",
        "vals = np.arange(100, 200, 20) #start=100, stop=200, step=20\n",
        "\n",
        "plt.plot(iters, vals)\n",
        "plt.title(\"Iterations vs values plot\")\n",
        "plt.xlabel(\"Iteration\")\n",
        "plt.ylabel(\"Value\")\n",
        "plt.show()"
      ],
      "execution_count": 2,
      "outputs": [
        {
          "output_type": "display_data",
          "data": {
            "text/plain": [
              "<Figure size 432x288 with 1 Axes>"
            ],
            "image/png": "[encoded data removed]"
          },
          "metadata": {
            "needs_background": "light"
          }
        }
      ]
    },
    {
      "cell_type": "code",
      "source": [],
      "metadata": {
        "id": "P1HYA9W7I0lG"
      },
      "execution_count": null,
      "outputs": []
    },
    {
      "cell_type": "markdown",
      "metadata": {
        "id": "Z6sc0ZNUUGNk"
      },
      "source": [
        "## Task 2\n",
        "Generate a plot of **iteration vs relative approx error (%)** for the bisection method function you implemented earlier."
      ]
    },
    {
      "cell_type": "code",
      "source": [
        "import numpy as np\n",
        "import matplotlib.pyplot as plt\n",
        "\n",
        "def iterationError (f,xl,xu,epsilon):\n",
        " xm=xl\n",
        " error=50\n",
        " i=0\n",
        " errorlist=[]\n",
        " while(True):\n",
        "  if(i!=0):\n",
        "   x_o=xm\n",
        "  xm=(xl+xu)/2\n",
        "   \n",
        "  if (func(xl,f)*func(xm,f))<0:\n",
        "          xu=xm\n",
        "  else:\n",
        "    xl=xm\n",
        "   \n",
        "\n",
        "  if(i!=0):\n",
        "          error=abs((xm-x_o)/xm)*100\n",
        "          if error<=epsilon:\n",
        "            break\n",
        "  i=i+1\n",
        "  errorlist.append(error)\n",
        " return errorlist\n",
        "\n",
        "error=iterationError(f,-2,0,5)\n",
        "print(error)\n",
        "\n",
        "vals=np.arange(100,200,20)\n",
        "\n",
        "plt.plot(error)\n",
        "plt.title(\"Iterations vs values plot \")\n",
        "plt.xlabel(\"Iteration\")\n",
        "plt.ylabel(\"Value\")\n",
        "plt.show()\n",
        "\n"
      ],
      "metadata": {
        "colab": {
          "base_uri": "https://localhost:8080/",
          "height": 312
        },
        "id": "Y1CeM-PYI1sX",
        "outputId": "1ca92c84-0083-4e17-b421-603c1405abf3"
      },
      "execution_count": 3,
      "outputs": [
        {
          "output_type": "stream",
          "name": "stdout",
          "text": [
            "[50, 33.33333333333333, 20.0, 11.11111111111111, 5.263157894736842]\n"
          ]
        },
        {
          "output_type": "display_data",
          "data": {
            "text/plain": [
              "<Figure size 432x288 with 1 Axes>"
            ],
            "image/png": "[encoded data removed]"
          },
          "metadata": {
            "needs_background": "light"
          }
        }
      ]
    }
  ]
}