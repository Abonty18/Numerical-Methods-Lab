{
  "nbformat": 4,
  "nbformat_minor": 0,
  "metadata": {
    "colab": {
      "provenance": [],
      "collapsed_sections": [],
      "include_colab_link": true
    },
    "kernelspec": {
      "name": "python3",
      "display_name": "Python 3"
    },
    "language_info": {
      "name": "python"
    }
  },
  "cells": [
    {
      "cell_type": "markdown",
      "metadata": {
        "id": "view-in-github",
        "colab_type": "text"
      },
      "source": [
        "<a href=\"https://colab.research.google.com/github/Abonty18/Numerical-Methods-Lab/blob/main/Labiba_Farah_190042118_Math_4544_A_L3.ipynb\" target=\"_parent\"><img src=\"https://colab.research.google.com/assets/colab-badge.svg\" alt=\"Open In Colab\"/></a>"
      ]
    },
    {
      "cell_type": "markdown",
      "source": [
        "# **Lab 3 : Newton's Divided Difference Interpolation**<br>\n",
        "\n",
        "Interpolation is the process of estimating unknown data that lies within the range of some known data. The **Newton's Divided Difference Interpolation** is one of the methods of performing this task. In order to interpolate unknown data, one needs to define a model that would fit the known data and based on that model, one would obtain the unknown data. This model would basically be function that tries to satisfy the known data points. There can be various types of functions that may satisfy the same given data points, but for interpolation, we usually choose **polynomials** as interpolating functions due to the fact that polynomials are very easy to evaluate, differentiate and integrate.\n",
        "\n",
        "In today's lab, we will be implementing the Newton's Divided Difference Interpolation in python. To test our implementation, we will be using the same data that we used during our class lectures. Run the following cell to load the known data points:\n"
      ],
      "metadata": {
        "id": "Dex_lDl5gUKB"
      }
    },
    {
      "cell_type": "code",
      "source": [
        "t = [0, 10, 15, 20, 22.5, 30]\n",
        "v = [0, 227.04, 362.78, 517.35, 602.97, 901.67]"
      ],
      "metadata": {
        "id": "_QpvT2CYjART"
      },
      "execution_count": null,
      "outputs": []
    },
    {
      "cell_type": "markdown",
      "source": [
        "##Task 1\n",
        "Design a utility function that will be called in the Newton's Divided Difference function. The purpose of this function will be to find the n+1 closest points to the unknown value t_new where we want to interpolate the data, where n is the order of the interpolating polynomial. The function to be implemented is as follows:"
      ],
      "metadata": {
        "id": "_XU-vXFFzj4T"
      }
    },
    {
      "cell_type": "code",
      "source": [
        "def NearestPoints(t: list, v: list, n: float, t_new: float):\n",
        "    # Write your implementation here\n",
        "    value_dict = dict()\n",
        "    total_datapoint = len(t)\n",
        "\n",
        "    for i in range(total_datapoint):\n",
        "        value_dict[t[i]] = v[i]\n",
        "    t.append(t_new)\n",
        "    t.sort()\n",
        "\n",
        "    pivot_index = t.index(t_new)\n",
        "    values_to_find = n + 1\n",
        "    left_index = pivot_index - 1\n",
        "    right_index = pivot_index + 1\n",
        "    nearest_t = []\n",
        "\n",
        "    # Assuming both sides left\n",
        "    while values_to_find and left_index >= 0 and right_index < total_datapoint:\n",
        "        if t_new - t[left_index] < t[right_index] - t_new:\n",
        "            nearest_t.append(t[left_index])\n",
        "            left_index -= 1\n",
        "        else:\n",
        "            nearest_t.append(t[right_index])\n",
        "            right_index += 1\n",
        "        values_to_find -= 1\n",
        "\n",
        "    # Assuming left side is left:\n",
        "    while values_to_find and left_index >= 0:\n",
        "        nearest_t.append(t[left_index])\n",
        "        left_index -= 1\n",
        "        values_to_find -= 1\n",
        "\n",
        "    # Assuming right side is left:\n",
        "    while values_to_find and right_index < total_datapoint:\n",
        "        nearest_t.append(t[right_index])\n",
        "        right_index += 1\n",
        "        values_to_find -= 1\n",
        "\n",
        "    nearest_v = [value_dict[i] for i in nearest_t]\n",
        "    \n",
        "    return nearest_t, nearest_v\n",
        "\n",
        "\n",
        "  "
      ],
      "metadata": {
        "id": "xv0ziIB60ET8"
      },
      "execution_count": null,
      "outputs": []
    },
    {
      "cell_type": "markdown",
      "source": [
        "The above function is supposed to return two vectors, say t_nearest and v_nearest consisting of n+1 elements each. For testing the working of the function, we can print the data and see what we are getting. Run the following cell to check this:"
      ],
      "metadata": {
        "id": "LHxyRNGa0RDb"
      }
    },
    {
      "cell_type": "code",
      "source": [
        "t = [0, 10, 15, 20, 22.5, 30]\n",
        "v = [0, 227.04, 362.78, 517.35, 602.97, 901.67]\n",
        "n = 2\n",
        "t_new = 16\n",
        "NearestPoints(t, v, n, t_new)"
      ],
      "metadata": {
        "id": "Ls-vZyV50zgq",
        "colab": {
          "base_uri": "https://localhost:8080/"
        },
        "outputId": "6618d8f9-74c7-4088-c395-622270c50b90"
      },
      "execution_count": null,
      "outputs": [
        {
          "output_type": "execute_result",
          "data": {
            "text/plain": [
              "([15, 20, 10], [362.78, 517.35, 227.04])"
            ]
          },
          "metadata": {},
          "execution_count": 98
        }
      ]
    },
    {
      "cell_type": "markdown",
      "source": [
        "##Task 2\n",
        "Now your task is to design a generalized function that takes the given data as parameters as well as the order (n) of the polynomial and uses the Newton's Divided Difference Polynomial to interpolate the uknown data at t_new. The following cell contains the function to be implemented:"
      ],
      "metadata": {
        "id": "GzKLR0nkj32g"
      }
    },
    {
      "cell_type": "code",
      "source": [
        "from numpy import *\n",
        "def polynomial_solver(coeff_values, x):\n",
        "    ans = 0\n",
        "    for i, val in enumerate(coeff_values):\n",
        "        ans += val * (x**i)\n",
        "    \n",
        "    return ans\n",
        "\n",
        "t = [0, 10, 15, 20, 22.5, 30]\n",
        "v = [0, 227.04, 362.78, 517.35, 602.97, 901.67]\n",
        "n = 1\n",
        "t_new = 16\n",
        "def NDD(t, v, n, t_new):\n",
        "  #Write your implementation here\n",
        "  t_nearest, v_nearest = NearestPoints(t, v, n, t_new)\n",
        "  t1=[]\n",
        "  v1=[]\n",
        "  t1=t_nearest\n",
        "  v1=v_nearest\n",
        "  # print(t1)\n",
        "  # print(v1)\n",
        "  \n",
        "  n = len(t1)\n",
        "  #Construct table and load xy pairs in first columns\n",
        "  A = zeros((n,n+1))\n",
        "  # print(A)\n",
        "  A[:,0]= t1[:]\n",
        "  A[:,1]= v1[:]\n",
        "  # print(A)\n",
        "  #Fill in Divided differences\n",
        "  for j in range(2,n+1):\n",
        "    for i in range(j-1,n):\n",
        "      A[i,j] = (A[i,j-1]-A[i-1,j-1]) / (A[i,0]-A[i-j+1,0])\n",
        "  #Copy diagonal elements into array for returning\n",
        "  p = zeros(n)\n",
        "  for k in range(0,n):\n",
        "    p[k] = A[k,k+1]\n",
        "    # print(p)\n",
        "  return p\n",
        "  coeff_matrix = np.array(p)\n",
        "  const_matrix = np.array(v1)\n",
        "  # return coeff_matrix,const_matrix\n",
        "#   coeff_values = np.linalg.solve(coeff_matrix, const_matrix)  # Solving Ax=b\n",
        "#   return polynomial_solver(coeff_values, t_new), coeff_values\n",
        "\n",
        "# t = [0, 10, 15, 20, 22.5, 30]\n",
        "# v = [0, 227.04, 362.78, 517.35, 602.97, 901.67]\n",
        "# n = 1\n",
        "# t_new = 16\n",
        "# result, coeffs = NDD(t, v, n, t_new)\n",
        "# print(coeffs)\n",
        "# print(result)\n",
        "\n",
        "NDD(t,v,n,t_new)\n",
        "\n",
        "\n",
        "\n",
        "\n",
        "\n",
        "  \n"
      ],
      "metadata": {
        "id": "2m1trUT_k5pi",
        "colab": {
          "base_uri": "https://localhost:8080/"
        },
        "outputId": "94d8c903-902d-4e7c-a9c8-a0fbee180fa7"
      },
      "execution_count": null,
      "outputs": [
        {
          "output_type": "execute_result",
          "data": {
            "text/plain": [
              "array([362.78 ,  30.914])"
            ]
          },
          "metadata": {},
          "execution_count": 99
        }
      ]
    },
    {
      "cell_type": "markdown",
      "source": [
        "Note that the above function will at first need to find a number of closest points to the unknown data (t_new), and this number will vary depending on the order (n) of the polynomial that we want to use as the interpolating function. So you will have to call the function you implemented in Task 1 inside this function."
      ],
      "metadata": {
        "id": "vcJ2VMvplfpw"
      }
    },
    {
      "cell_type": "markdown",
      "source": [
        "##Task 3\n",
        "Now, test the function using different order of polynomials, setting n = 1, 2, 3 and so on and print the absolute relative approximate error at each step. Also generate a plot of order vs error."
      ],
      "metadata": {
        "id": "HhsqLMYYpD8S"
      }
    },
    {
      "cell_type": "code",
      "source": [
        "#Write your code here for finding the relative approximate errors for different orders of the polynomial\n",
        "\n"
      ],
      "metadata": {
        "id": "ShRMjjHSm-dq"
      },
      "execution_count": null,
      "outputs": []
    }
  ]
}