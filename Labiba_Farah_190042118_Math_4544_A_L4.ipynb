{
  "cells": [
    {
      "cell_type": "markdown",
      "metadata": {
        "id": "view-in-github",
        "colab_type": "text"
      },
      "source": [
        "<a href=\"https://colab.research.google.com/github/Abonty18/Numerical-Methods-Lab/blob/main/Labiba_Farah_190042118_Math_4544_A_L4.ipynb\" target=\"_parent\"><img src=\"https://colab.research.google.com/assets/colab-badge.svg\" alt=\"Open In Colab\"/></a>"
      ]
    },
    {
      "cell_type": "markdown",
      "metadata": {
        "id": "Dex_lDl5gUKB"
      },
      "source": [
        "# **Lab 4 : Linear Regression**<br>\n",
        "\n",
        "Regression is the process of estimating a model that produces the best fit for the given data. **Linear Regression** is the simplest and most popular among them. A linear regression model is given by y = a<sub>0</sub> + a<sub>1</sub>x, where a<sub>0</sub> and a<sub>1</sub> are the parameters of the regression model. The values of these two parameters should be such that the produced result of (a<sub>0</sub> + a<sub>1</sub>x) should have the least deviation from the actual result. In order to measure how well our model fits the data or whether it deviates from the actual result, we use the least square criterion.\n",
        "\n",
        "In today's lab, we will be implementing the Linear Regression in python. Note that there might be built-in functions for linear regression in python, but the purpose of this lab is to understand how linear regression actually works, and hence those built-in functions are not allowed. To test our implementation, we will be using the same data that is available in the first example of our class lecture pdf. That way, you can check whether your implementation is working correctly by comparing with the results obtained in that example. Run the following cell to load the known data points:\n"
      ]
    },
    {
      "cell_type": "code",
      "execution_count": null,
      "metadata": {
        "id": "_QpvT2CYjART"
      },
      "outputs": [],
      "source": [
        "theta = [0.698132, 0.959931, 1.134464, 1.570796, 1.919862]\n",
        "torque = [0.18824, 0.209138, 0.230052, 0.250965, 0.313707]"
      ]
    },
    {
      "cell_type": "markdown",
      "metadata": {
        "id": "_XU-vXFFzj4T"
      },
      "source": [
        "##Task 1\n",
        "Assuming that the linear regression model for the given data is defined as Torque = a<sub>0</sub> + a<sub>1</sub>*Theta, write a function that takes the given data as input and returns the regression parameters a<sub>0</sub> and a<sub>1</sub>."
      ]
    },
    {
      "cell_type": "code",
      "execution_count": null,
      "metadata": {
        "colab": {
          "base_uri": "https://localhost:8080/"
        },
        "id": "xv0ziIB60ET8",
        "outputId": "77ac306a-8fcd-4497-9cd7-0cade8d86140"
      },
      "outputs": [
        {
          "name": "stdout",
          "output_type": "stream",
          "text": [
            "The value of k1 is:  0.1176651489883401\n",
            "The value of k2 is:  0.09609143373278034\n"
          ]
        },
        {
          "data": {
            "text/plain": [
              "(0.1176651489883401, 0.09609143373278034)"
            ]
          },
          "execution_count": 24,
          "metadata": {},
          "output_type": "execute_result"
        }
      ],
      "source": [
        "import numpy as np\n",
        "import matplotlib.pyplot as plt\n",
        "import sympy as sym\n",
        "def LinearRegression(theta, torque):\n",
        "  #Write your implementation here\n",
        "  theta = np.array([0.698132, 0.959931, 1.134464, 1.570796, 1.919862])\n",
        "  torque = np.array([0.188224, 0.209138, 0.230052, 0.250965, 0.313707])\n",
        "  x = theta\n",
        "  y = torque\n",
        "\n",
        "  #Calculating the values of k1 and k2\n",
        "  n = len(x)\n",
        "  m_x, m_y = np.mean(x), np.mean(y)\n",
        "\n",
        "  SS_xy = np.sum(y*x) - n*m_y*m_x \n",
        "  SS_xx = np.sum(x*x) - n*m_x*m_x \n",
        "\n",
        "  k2 = SS_xy / SS_xx \n",
        "  k1 = m_y - k2*m_x \n",
        "\n",
        "  print('The value of k1 is: ' , k1)\n",
        "  print('The value of k2 is: ' , k2)\n",
        "\n",
        "  return k1, k2\n",
        "LinearRegression(theta, torque)\n",
        "\n",
        "  "
      ]
    },
    {
      "cell_type": "markdown",
      "metadata": {
        "id": "GzKLR0nkj32g"
      },
      "source": [
        "##Task 2\n",
        "Write another function that takes any arbitrary value as input and applies the regression model to generate the output. "
      ]
    },
    {
      "cell_type": "code",
      "execution_count": null,
      "metadata": {
        "colab": {
          "base_uri": "https://localhost:8080/"
        },
        "id": "2m1trUT_k5pi",
        "outputId": "fbc0c5c2-5b0a-4d7c-bd6a-bad744b729e0"
      },
      "outputs": [
        {
          "output_type": "stream",
          "name": "stdout",
          "text": [
            "The value of k1 is:  0.1176651489883401\n",
            "The value of k2 is:  0.09609143373278034\n",
            "0.226677421266565\n"
          ]
        },
        {
          "output_type": "execute_result",
          "data": {
            "text/plain": [
              "0.226677421266565"
            ]
          },
          "metadata": {},
          "execution_count": 63
        }
      ],
      "source": [
        "def calculate(x):\n",
        "  #Write your implementation here\n",
        "  k1, k2 = LinearRegression(theta, torque)\n",
        "  # thta = sym.symbols('thta')\n",
        "  T = k1 + k2 * x\n",
        "  print(T)\n",
        " \n",
        " \n",
        "\n",
        "\n",
        "  return T\n",
        "\n",
        "calculate(1.134464)\n",
        "\n",
        "\n",
        "  \n"
      ]
    },
    {
      "cell_type": "markdown",
      "metadata": {
        "id": "HhsqLMYYpD8S"
      },
      "source": [
        "##Task 3\n",
        "Use the calculate function in a loop to generate a plot of the regression curve. Show the original data points (theta, torque) on the same plot using stem function. Use different colors for the regression curve and the original data points and show a legend. For this task, you are allowed to use various libraries such as matplotlib."
      ]
    },
    {
      "cell_type": "code",
      "execution_count": null,
      "metadata": {
        "colab": {
          "base_uri": "https://localhost:8080/",
          "height": 416
        },
        "id": "ShRMjjHSm-dq",
        "outputId": "a37080fc-338e-4275-9b13-2e43ceacd6d6"
      },
      "outputs": [
        {
          "output_type": "stream",
          "name": "stdout",
          "text": [
            "The value of k1 is:  0.1176651489883401\n",
            "The value of k2 is:  0.09609143373278034\n",
            "0.17514051042979548\n",
            "The value of k1 is:  0.1176651489883401\n",
            "The value of k2 is:  0.09609143373278034\n",
            "0.3117565845107012\n",
            "[0.598132, 2.019862]\n"
          ]
        },
        {
          "output_type": "display_data",
          "data": {
            "text/plain": [
              "<Figure size 432x288 with 1 Axes>"
            ],
            "image/png": "[encoded data removed]"
          },
          "metadata": {
            "needs_background": "light"
          }
        }
      ],
      "source": [
        "#Write your code here for generating the plot\n",
        "iters=[]\n",
        "iters.append(min(theta)-0.1)\n",
        "iters.append(max(theta)+0.1)\n",
        "y_pred=[]\n",
        "for i in iters:\n",
        "    x1 = calculate(i)\n",
        "    y_pred.append(x1)\n",
        "\n",
        "\n",
        "x = theta\n",
        "y = torque\n",
        "print(iters)\n",
        "\n",
        "plt.scatter(x,y, label='Original Points', color = 'b')\n",
        "\n",
        "plt.plot(iters, y_pred, label = 'Regression', color = 'r')\n",
        "plt.title('Regression test')\n",
        "plt.xlabel('Angle, Theta')\n",
        "plt.ylabel('Torque, Nm')\n",
        "plt.legend()\n",
        "plt.show()\n"
      ]
    }
  ],
  "metadata": {
    "colab": {
      "collapsed_sections": [],
      "provenance": [],
      "include_colab_link": true
    },
    "kernelspec": {
      "display_name": "Python 3",
      "name": "python3"
    },
    "language_info": {
      "name": "python"
    }
  },
  "nbformat": 4,
  "nbformat_minor": 0
}