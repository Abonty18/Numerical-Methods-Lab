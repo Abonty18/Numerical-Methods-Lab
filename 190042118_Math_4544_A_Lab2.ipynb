{
  "nbformat": 4,
  "nbformat_minor": 0,
  "metadata": {
    "colab": {
      "provenance": [],
      "collapsed_sections": [],
      "include_colab_link": true
    },
    "kernelspec": {
      "name": "python3",
      "display_name": "Python 3"
    },
    "language_info": {
      "name": "python"
    }
  },
  "cells": [
    {
      "cell_type": "markdown",
      "metadata": {
        "id": "view-in-github",
        "colab_type": "text"
      },
      "source": [
        "<a href=\"https://colab.research.google.com/github/Abonty18/Numerical-Methods-Lab/blob/main/190042118_Math_4544_A_Lab2.ipynb\" target=\"_parent\"><img src=\"https://colab.research.google.com/assets/colab-badge.svg\" alt=\"Open In Colab\"/></a>"
      ]
    },
    {
      "cell_type": "markdown",
      "metadata": {
        "id": "SChhcgB_Tkv9"
      },
      "source": [
        "# **Lab 2 : False Position and Secant method**<br>\n",
        "\n",
        "The False Position method is one of the methods of finding roots of a non-linear function. Similar to the Bisection method, it falls under the category of **Bracketing methods** since the initial boundary guesses, x<sub>l</sub> and x<sub>u</sub>, must bracket the actual root. And the assumption here is that the function is real continuous, otherwise the False position method wouldn't work. The main difference between the Bisection method and False position method is that it takes advantage of the fact that one of the boundary values, either x<sub>l</sub> or x<sub>u</sub>, would have their functional value be closer to the zero of the function, and this would result in the new estimation x<sub>r</sub> be closer to one of the bracketing values than the mid-point x<sub>m</sub>.\n",
        "\n",
        "In today's lab, we will be implementing the False position method in python. Just like in the previous lab for Bisection method, we will be considering the function f(x) as an array of coefficients, for instance if we want to have f(x) = x<sup>3</sup>+x-2, then in python we will create an array as follows:\n"
      ]
    },
    {
      "cell_type": "code",
      "metadata": {
        "id": "rZ4tGQSjTvYF"
      },
      "source": [
        "f = [0.5,0,-2,5]"
      ],
      "execution_count": null,
      "outputs": []
    },
    {
      "cell_type": "markdown",
      "metadata": {
        "id": "E4vSfOrrTwlc"
      },
      "source": [
        "Note that your implementation should be able to handle the array f of any size,which means it should be able to find the root of any given polynomial. But for testing purposes, you can use the array f given here.\n",
        "\n",
        "Next, you will need to create a user-defined function as follows\n",
        "```\n",
        "func(f, x)\n",
        "```\n",
        "This function will take the coefficent array f and a point x as input and evaluate the value of the function at that point x using a loop and return that value. This function will be called in the other function that you will implement, which is as follows:\n",
        "```\n",
        "falseposition(f, xl, xu, epsilon)\n",
        "```\n",
        "This function will return the root of the equation represented by the array f and in case it does not reach the root exactly then it will return the close enough value to the root that has an absolute relative approximate error of at most epsilon (%)."
      ]
    },
    {
      "cell_type": "markdown",
      "metadata": {
        "id": "3sOLCbqJT7q0"
      },
      "source": [
        "##Task 1\n",
        "Implement the function for False position method following the requirements set earlier. Write a script after the function to call it and test whether it is working correctly. For the function given above, there is only one real root and it is 1."
      ]
    },
    {
      "cell_type": "code",
      "source": [
        "# Write a function to return the value of the polynomial at the point x\n",
        "import numpy as np\n",
        "f = np.array([0.5,0,-2,5])\n",
        "def func(x,f):\n",
        "    result=0\n",
        "    for i in range (len(f)-1,-1,-1):\n",
        "      result= result+f[len(f)-i-1]*pow(x,i)\n",
        "    return result\n",
        "#print(func(1,f))\n",
        "\n",
        "#Complete the following function\n",
        "\n",
        "def falseposition(f, x0, x1, epsilon):\n",
        "  #write your implementation here\n",
        "    x2=x0\n",
        "    step = 0\n",
        "    error=100\n",
        "    \n",
        "    print('\\n\\n*** FALSE POSITION METHOD IMPLEMENTATION ***')\n",
        "    condition = True\n",
        "    while condition:\n",
        "        x_o=x2\n",
        "        x2 = x0 - (x1-x0) * func(x0,f)/( func(x1,f) - func(x0,f) )\n",
        "        \n",
        "        print('Iteration %d, x2 = %0.6f and f(x2) = %0.6f',(step, x2, func(x2,f)))\n",
        "        print(\"The value of error is :\" , \"%.5f\" %error)\n",
        "\n",
        "        if func(x0,f) * func(x2,f) < 0:\n",
        "            x1 = x2\n",
        "        else:\n",
        "            x0 = x2\n",
        "        if(step!=0):\n",
        "          error=abs((x2-x_o)/x2)\n",
        "          if error<=epsilon:\n",
        "            break\n",
        "\n",
        "        step = step + 1\n",
        "        condition = abs(func(x2,f)) > epsilon\n",
        "\n",
        "        # print('\\nRequired root is: %0.8f' % x2)\n",
        "        # print(\"The value of error is :\" , \"%.5f\" %error)\n",
        "falseposition(f,-3,-2,0.01)\n",
        "\n",
        "\n"
      ],
      "metadata": {
        "id": "f6HGUB7nT9k9",
        "colab": {
          "base_uri": "https://localhost:8080/"
        },
        "outputId": "a2ab0d61-895b-4097-d9ee-0b2e8ae856e7"
      },
      "execution_count": 1,
      "outputs": [
        {
          "output_type": "stream",
          "name": "stdout",
          "text": [
            "\n",
            "\n",
            "*** FALSE POSITION METHOD IMPLEMENTATION ***\n",
            "Iteration %d, x2 = %0.6f and f(x2) = %0.6f (0, -2.6666666666666665, 0.8518518518518539)\n",
            "The value of error is : 100.00000\n",
            "Iteration %d, x2 = %0.6f and f(x2) = %0.6f (1, -2.751381215469613, 0.08864889714407553)\n",
            "The value of error is : 100.00000\n",
            "Iteration %d, x2 = %0.6f and f(x2) = %0.6f (2, -2.7598952248751507, 0.008699606789251746)\n",
            "The value of error is : 0.03079\n"
          ]
        }
      ]
    },
    {
      "cell_type": "markdown",
      "metadata": {
        "id": "5Jb9dNIqT_f8"
      },
      "source": [
        "In case you do not remember how graphs can be plotted in Python, here is a sample code showing how to do it using the matplotlib library."
      ]
    },
    {
      "cell_type": "markdown",
      "metadata": {
        "id": "Z6sc0ZNUUGNk"
      },
      "source": [
        "## Task 2\n",
        "Generate a plot of **iteration vs relative approx error (%)** for the False Position method function you implemented earlier."
      ]
    },
    {
      "cell_type": "code",
      "metadata": {
        "id": "zHadfasm8dUF",
        "colab": {
          "base_uri": "https://localhost:8080/",
          "height": 384
        },
        "outputId": "a0873235-8996-400d-a5f3-319d0020e6b7"
      },
      "source": [
        "import numpy as np\n",
        "import matplotlib.pyplot as plt\n",
        "\n",
        "f = np.array([0.5,0,-2,5])\n",
        "def func(x,f):\n",
        "    result=0\n",
        "    for i in range (len(f)-1,-1,-1):\n",
        "      result= result+f[len(f)-i-1]*pow(x,i)\n",
        "    return result\n",
        "#print(func(1,f))\n",
        "\n",
        "#Complete the following function\n",
        "\n",
        "def falseposition(f, x0, x1, epsilon):\n",
        "  #write your implementation here\n",
        "    x2=x0\n",
        "    step = 0\n",
        "    error=1000\n",
        "    errorlist=[]\n",
        "    \n",
        "    print('\\n\\n*** FALSE POSITION METHOD IMPLEMENTATION ***')\n",
        "    condition = True\n",
        "    while condition:\n",
        "        x_o=x2\n",
        "        x2 = x0 - (x1-x0) * func(x0,f)/( func(x1,f) - func(x0,f) )\n",
        "        \n",
        "        # print('Iteration %d, x2 = %0.6f and f(x2) = %0.6f',(step, x2, func(x2,f)))\n",
        "        # print(\"The value of error is :\" , \"%.5f\" %error)\n",
        "\n",
        "        if func(x0,f) * func(x2,f) < 0:\n",
        "            x1 = x2\n",
        "        else:\n",
        "            x0 = x2\n",
        "        if(step!=0):\n",
        "          error=abs((x2-x_o)/x2)\n",
        "          if error<=epsilon:\n",
        "            break\n",
        "\n",
        "        step = step + 1\n",
        "        if(error<=100):\n",
        "         errorlist.append(error)\n",
        "    return errorlist\n",
        "\n",
        "error=falseposition(f,-5,1,0.01)\n",
        "print(error)\n",
        "\n",
        "vals=np.arange(100,200,20)\n",
        "\n",
        "plt.plot(error)\n",
        "plt.title(\"Iterations vs values plot \")\n",
        "plt.xlabel(\"Iteration\")\n",
        "plt.ylabel(\"Value\")\n",
        "plt.show()\n",
        "\n",
        "\n"
      ],
      "execution_count": 2,
      "outputs": [
        {
          "output_type": "stream",
          "name": "stdout",
          "text": [
            "\n",
            "\n",
            "*** FALSE POSITION METHOD IMPLEMENTATION ***\n",
            "[2.6381668946648515, 1.536887690013446, 0.6215737688583304, 0.3835043544294376, 0.2571507880804637, 0.17075628776363674, 0.10884334504393285, 0.0664067601152055, 0.03912890422592796, 0.02251350285649111, 0.012761889621850703]\n"
          ]
        },
        {
          "output_type": "display_data",
          "data": {
            "text/plain": [
              "<Figure size 432x288 with 1 Axes>"
            ],
            "image/png": "[encoded data removed]"
          },
          "metadata": {
            "needs_background": "light"
          }
        }
      ]
    },
    {
      "cell_type": "markdown",
      "metadata": {
        "id": "t1yWM5V18cA2"
      },
      "source": [
        "# **Secant method**\n",
        "The Secant method is another method of finding roots of a nonlinear function. Unlike the Bisection and False position method, it falls under the category of **Open methods** due to the fact that we only need two initial guesses that do not have to bracket the actual root. Secant method works by approximating the derivative that is used in **Newton Raphson method**."
      ]
    },
    {
      "cell_type": "markdown",
      "metadata": {
        "id": "rcyU1bzM9u3g"
      },
      "source": [
        "## Task 3\n",
        "Implement the Secant method for the above function and write a script for testing its implementation. The actual root is 1, and you can take the initial guesses for the secant as 2 and 2.2."
      ]
    },
    {
      "cell_type": "code",
      "metadata": {
        "id": "HcPhTbIu_sn4",
        "colab": {
          "base_uri": "https://localhost:8080/"
        },
        "outputId": "768b3c06-fb99-4ca2-ebb3-963e649ba691"
      },
      "source": [
        "# Write a function to return the value of the polynomial at the point x\n",
        "import numpy as np\n",
        "f = np.array([0.5,0,-2,5])\n",
        "def func(x,f):\n",
        "    result=0\n",
        "    for i in range (len(f)-1,-1,-1):\n",
        "      result= result+f[len(f)-i-1]*pow(x,i)\n",
        "    return result\n",
        "\n",
        "# Complete the following function\n",
        "def secant(f,x1, x2, epsilon):\n",
        "    n = 0; xm = 0; x0 = 0; c = 0;error=100;\n",
        "    if (func(x1,f) * func(x2,f) < 0):\n",
        "        while True:\n",
        "             \n",
        "            # calculate the intermediate value\n",
        "            x0 = ((x1 * func(x2,f) - x2 * func(x1,f)) /\n",
        "                            (func(x2,f) - func(x1,f)));\n",
        " \n",
        "            # check if x0 is root of\n",
        "            # equation or not\n",
        "            c = func(x1,f) * func(x0,f);\n",
        " \n",
        "            # update the value of interval\n",
        "            x1 = x2;\n",
        "            x2 = x0;\n",
        " \n",
        "            # update number of iteration\n",
        "            n += 1;\n",
        " \n",
        "            # if x0 is the root of equation\n",
        "            # then break the loop\n",
        "            if (c == 0):\n",
        "                break;\n",
        "            x_o=xm\n",
        "            xm = ((x1 * func(x2,f) - x2 * func(x1,f)) /\n",
        "                            (func(x2,f) - func(x1,f)));\n",
        "            error=abs((xm-x_o)/xm)\n",
        "\n",
        "            print('Iteration no , xm , f(xm) and the error is ',(n, x2, func(x2,f),error))\n",
        "            # print(\"The value of error is :\" , \"%.5f\" %error)\n",
        "             \n",
        "            if(abs(xm - x0) < epsilon):\n",
        "              \n",
        "                break;\n",
        "         \n",
        "        # print(\"Root of the given equation =\",\n",
        "        #                        round(x0, 6));\n",
        "        # print(\"No. of iterations = \", n);\n",
        "         \n",
        "    else:\n",
        "        print(\"Can not find a root in \",\n",
        "                   \"the given interval\");\n",
        " \n",
        "# initializing the values\n",
        "x1 = -3;\n",
        "x2 = -2;\n",
        "E = 0.01;\n",
        "secant(f,x1, x2, E);\n",
        "\n",
        "\n"
      ],
      "execution_count": 29,
      "outputs": [
        {
          "output_type": "stream",
          "name": "stdout",
          "text": [
            "Iteration no , xm , f(xm) and the error is  (1, -2.6666666666666665, 0.8518518518518539, 1.0)\n",
            "Iteration no , xm , f(xm) and the error is  (2, -2.803571428571429, -0.4109107370626841, 0.016146901982670537)\n",
            "Iteration no , xm , f(xm) and the error is  (3, -2.7590217744119454, 0.01692918448053593, 0.0006385083064336544)\n"
          ]
        }
      ]
    },
    {
      "cell_type": "markdown",
      "source": [
        "## Task 4\n",
        "Plot the **iteration vs absolute relative approximate error (%)** curves for both False position method and Secant method in the same graph and see which one converges faster."
      ],
      "metadata": {
        "id": "8lJg-fOvDMC-"
      }
    },
    {
      "cell_type": "code",
      "source": [
        "import numpy as np\n",
        "import matplotlib.pyplot as plt\n",
        "\n",
        "f = np.array([0.5,0,-2,5])\n",
        "def func(x,f):\n",
        "    result=0\n",
        "    for i in range (len(f)-1,-1,-1):\n",
        "      result= result+f[len(f)-i-1]*pow(x,i)\n",
        "    return result\n",
        "\n",
        "# Complete the following function\n",
        "def secant(f,x1, x2, epsilon):\n",
        "    n = 0; xm = 0; x0 = 0; c = 0;error=100;\n",
        "    errorlist=[]\n",
        "    if (func(x1,f) * func(x2,f) < 0):\n",
        "        while True:\n",
        "             \n",
        "            # calculate the intermediate value\n",
        "            x0 = ((x1 * func(x2,f) - x2 * func(x1,f)) /\n",
        "                            (func(x2,f) - func(x1,f)));\n",
        " \n",
        "            c = func(x1,f) * func(x0,f);\n",
        " \n",
        "            # update the value of interval\n",
        "            x1 = x2;\n",
        "            x2 = x0;\n",
        " \n",
        "            # update number of iteration\n",
        "            n += 1;\n",
        " \n",
        "            if (c == 0):\n",
        "                break;\n",
        "            x_o=xm\n",
        "            xm = ((x1 * func(x2,f) - x2 * func(x1,f)) /\n",
        "                            (func(x2,f) - func(x1,f)));\n",
        "            error=abs((xm-x_o)/xm)\n",
        "\n",
        "            # print('Iteration no , xm , f(xm) and the error is ',(n, x2, func(x2,f),error))\n",
        "            # print(\"The value of error is :\" , \"%.5f\" %error)\n",
        "             \n",
        "            if(abs(xm - x0) < epsilon):\n",
        "              \n",
        "                break;\n",
        "            if(error<=100):\n",
        "               errorlist.append(error)\n",
        "        return errorlist\n",
        "         \n",
        "        # print(\"Root of the given equation =\",\n",
        "        #                        round(x0, 6));\n",
        "        # print(\"No. of iterations = \", n);\n",
        "         \n",
        "    else:\n",
        "        print(\"Can not find a root in \",\n",
        "                   \"the given interval\");\n",
        " \n",
        "# initializing the values\n",
        "x1 = -3;\n",
        "x2 = 1;\n",
        "E = 0.01;\n",
        "secant(f,x1, x2, E);\n",
        "\n",
        "error=secant(f,-3,-1,0.01)\n",
        "print(error)\n",
        "\n",
        "vals=np.arange(100,200,20)\n",
        "\n",
        "plt.plot(error)\n",
        "plt.title(\"Iterations vs values plot \")\n",
        "plt.xlabel(\"Iteration\")\n",
        "plt.ylabel(\"Value\")\n",
        "plt.show()\n"
      ],
      "metadata": {
        "colab": {
          "base_uri": "https://localhost:8080/",
          "height": 312
        },
        "id": "PSfzt5ctcjjp",
        "outputId": "eee2e12c-3b62-45fc-f003-e9cc50fb3ff1"
      },
      "execution_count": 30,
      "outputs": [
        {
          "output_type": "stream",
          "name": "stdout",
          "text": [
            "[1.0, 0.2675315860558402, 0.022144064713945057, 0.0070523657225556]\n"
          ]
        },
        {
          "output_type": "display_data",
          "data": {
            "text/plain": [
              "<Figure size 432x288 with 1 Axes>"
            ],
            "image/png": "[encoded data removed]"
          },
          "metadata": {
            "needs_background": "light"
          }
        }
      ]
    }
  ]
}