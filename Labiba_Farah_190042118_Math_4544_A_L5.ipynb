{
  "cells": [
    {
      "cell_type": "markdown",
      "metadata": {
        "id": "view-in-github",
        "colab_type": "text"
      },
      "source": [
        "<a href=\"https://colab.research.google.com/github/Abonty18/Numerical-Methods-Lab/blob/main/Labiba_Farah_190042118_Math_4544_A_L5.ipynb\" target=\"_parent\"><img src=\"https://colab.research.google.com/assets/colab-badge.svg\" alt=\"Open In Colab\"/></a>"
      ]
    },
    {
      "cell_type": "markdown",
      "metadata": {
        "id": "Dex_lDl5gUKB"
      },
      "source": [
        "# **Lab 5 : Integration**<br>\n",
        "\n",
        "Integration is the process of measuring the area under a function. This area actually corresponds to the anti-derivative of the function. For instance, a velocity function $v(t)$ can be obtained as a derivative of a distance function $S(t)$. Inversely, the integration of the velocity function $v(t)$ over a certain time period can give us the distance traveled over that time period. Performing integration analytically is a complex procedure, involving a lot of rules. Computers and calculators perform integration using some sort of numerical method, one of which is the **Simpson's 1/3 rule**.\n",
        "\n",
        "In today's lab, we will be implementing the **Simpson's 1/3 rule** of integration in python. The **Simpson's 1/3 rule** uses a minimum of 2 segments to divide the entire range of the interval of integration, but we can also define a multiple-segment version of this rule that divides the interval into n equal segments, where n is an even number. Suppose we wish to use the n-segment Simpson's 1/3 rule to find the distance covered by a rocket from time $t = 8$ to $t = 30$. The velocity function of the rocket is given as $v(t) = 2000ln[ \\frac{140000}{140000-2100t} ] - 9.8t$\n"
      ]
    },
    {
      "cell_type": "markdown",
      "metadata": {
        "id": "_XU-vXFFzj4T"
      },
      "source": [
        "##Task 1\n",
        "Implement a function that takes time as an argument and returns the velocity based on the given velocity function. Then, complete the following MultiSimpson13() function that takes number of segments n and the time interval (tmin, tmax) as arguments and returns the distance covered within this interval. Your function should also check for the validity of the number of segments."
      ]
    },
    {
      "cell_type": "code",
      "execution_count": null,
      "metadata": {
        "colab": {
          "base_uri": "https://localhost:8080/"
        },
        "id": "xv0ziIB60ET8",
        "outputId": "6c44b617-9c7a-4e23-b12d-9cbfe71da467"
      },
      "outputs": [
        {
          "output_type": "stream",
          "name": "stdout",
          "text": [
            "Enter lower limit of integration: 8\n",
            "Enter upper limit of integration: 30\n",
            "Enter number of sub intervals: 2\n",
            "Integration result by Simpson's 1/3 method is: 11065.716328\n"
          ]
        }
      ],
      "source": [
        "\n",
        "import math\n",
        "import numpy as np\n",
        "def velocity(t):\n",
        "   return (2000*np.log(140000/(140000-(2100*t))))-(9.8*t)\n",
        "\n",
        "\n",
        "def MultiSimpson13(tmin,tmax,n):\n",
        "  #Your code here\n",
        "    h = (tmax - tmin) / n\n",
        "    \n",
        "    # Finding sum \n",
        "    integration = velocity(tmin) + velocity(tmax)\n",
        "    \n",
        "    for i in range(1,n):\n",
        "        k = tmin + i*h\n",
        "        \n",
        "        if i%2 == 0:\n",
        "            integration = integration + 2 * velocity(k)\n",
        "        else:\n",
        "            integration = integration + 4 * velocity(k)\n",
        "    \n",
        "    # Finding final integration value\n",
        "    integration = integration * h/3\n",
        "    \n",
        "    return integration\n",
        "    \n",
        "# Input section\n",
        "lower_limit = float(input(\"Enter lower limit of integration: \"))\n",
        "upper_limit = float(input(\"Enter upper limit of integration: \"))\n",
        "sub_interval = int(input(\"Enter number of sub intervals: \"))\n",
        "\n",
        "# Call trapezoidal() method and get result\n",
        "result = MultiSimpson13(lower_limit, upper_limit, sub_interval)\n",
        "print(\"Integration result by Simpson's 1/3 method is: %0.6f\" % (result) )\n",
        "\n",
        "  "
      ]
    },
    {
      "cell_type": "markdown",
      "metadata": {
        "id": "GzKLR0nkj32g"
      },
      "source": [
        "##Task 2\n",
        "Use your previously implemented MultiSimpson13() function and use increasing number of segments, starting from 2 to 10 and show the relative approximate error at each step. Plot a graph showing the relative approx error vs number of segments. "
      ]
    },
    {
      "cell_type": "code",
      "execution_count": null,
      "metadata": {
        "id": "2m1trUT_k5pi",
        "colab": {
          "base_uri": "https://localhost:8080/",
          "height": 352
        },
        "outputId": "f5b22db4-a54f-4035-ac0d-a438fa8bd142"
      },
      "outputs": [
        {
          "output_type": "stream",
          "name": "stdout",
          "text": [
            "0.0003688595679299428\n",
            "2.1700099247485544e-05\n",
            "3.730639053525439e-06\n",
            "1.0278753967897223e-06\n"
          ]
        },
        {
          "output_type": "execute_result",
          "data": {
            "text/plain": [
              "[<matplotlib.lines.Line2D at 0x7fdc700a0510>]"
            ]
          },
          "metadata": {},
          "execution_count": 16
        },
        {
          "output_type": "display_data",
          "data": {
            "text/plain": [
              "<Figure size 432x288 with 1 Axes>"
            ],
            "image/png": "[encoded data removed]"
          },
          "metadata": {
            "needs_background": "light"
          }
        }
      ],
      "source": [
        "#Your code here\n",
        "import math\n",
        "import numpy as np\n",
        "import matplotlib.pyplot as plt\n",
        "e=[]\n",
        "iters=[]\n",
        "tmax=30\n",
        "tmin=8\n",
        "prev=0\n",
        "for i in range(1,11):\n",
        "  if i%2==1 :\n",
        "    continue\n",
        "  t=MultiSimpson13(tmax,tmin,i)\n",
        "  if i>2:\n",
        "    t1=abs((t-prev)/t)\n",
        "    print(t1)\n",
        "    e.append(t1*100)\n",
        "    iters.append(i)\n",
        "  prev=t\n",
        "plt.plot(iters,e)\n",
        "\n",
        "\n",
        "\n",
        "\n",
        "\n"
      ]
    },
    {
      "cell_type": "code",
      "source": [
        "print(e)\n"
      ],
      "metadata": {
        "colab": {
          "base_uri": "https://localhost:8080/"
        },
        "id": "94cHlfPVmqZd",
        "outputId": "792d2ec1-51f4-4884-c4b9-673a78254dd6"
      },
      "execution_count": null,
      "outputs": [
        {
          "output_type": "stream",
          "name": "stdout",
          "text": [
            "[0.03688595679299428, 0.0021700099247485543, 0.0003730639053525439, 0.00010278753967897224]\n"
          ]
        }
      ]
    }
  ],
  "metadata": {
    "colab": {
      "provenance": [],
      "include_colab_link": true
    },
    "kernelspec": {
      "display_name": "Python 3",
      "name": "python3"
    },
    "language_info": {
      "name": "python"
    }
  },
  "nbformat": 4,
  "nbformat_minor": 0
}